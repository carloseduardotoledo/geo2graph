{
 "cells": [
  {
   "cell_type": "code",
   "execution_count": null,
   "metadata": {},
   "outputs": [],
   "source": [
    "from neo4j.util import watch\n",
    "import logging\n",
    "from sys import stdout\n",
    "\n",
    "watch(\"neo4j.bolt\", logging.DEBUG, stdout)\n"
   ]
  },
  {
   "cell_type": "code",
   "execution_count": 1,
   "metadata": {
    "scrolled": true
   },
   "outputs": [
    {
     "name": "stdout",
     "output_type": "stream",
     "text": [
      "Start processing ...\n",
      "Done\n"
     ]
    }
   ],
   "source": [
    "# http://pro.arcgis.com/en/pro-app/tool-reference/analysis/generate-near-table.htm\n",
    "# http://pro.arcgis.com/en/pro-app/arcpy/get-started/data-access-using-cursors.htm\n",
    "\n",
    "import arcpy\n",
    "from neo4j.v1 import GraphDatabase\n",
    "\n",
    "\n",
    "arcpy.env.workspace = \"./sandbox_data/Canada\"\n",
    "\n",
    "in_features = \"earthquakes_location_2010_20.shp\"\n",
    "near_features = \"Pipelines_Segments_Permited.shp\"\n",
    "out_table = \"earthquakes_THREATS_pipelines.dbf\"\n",
    "\n",
    "search_radius = '1500 Meters'\n",
    "location = 'NO_LOCATION'\n",
    "angle = 'NO_ANGLE'\n",
    "closest = 'ALL'\n",
    "closest_count = 3\n",
    "\n",
    "print(\"Start processing ...\")\n",
    "\n",
    "arcpy.GenerateNearTable_analysis(in_features, [near_features], out_table, search_radius, \n",
    "                                 location, angle, closest, closest_count)\n",
    "\n",
    "\n",
    "\n",
    "driver = GraphDatabase.driver(\"bolt://54.201.105.15:7687\", auth=(\"geo2graph\", \"geo2graph\"))\n",
    "\n",
    "\n",
    "cursor = arcpy.SearchCursor(in_features,\n",
    "                            where_clause=\"magnitude  >= 3\",\n",
    "                            fields=\"FID; depth; magnitude\")\n",
    "for row in cursor:\n",
    "    create_earthquake_cypher = \"CREATE (e:Threat_Mechanism \" \\\n",
    "                               \"{fid:$fid, depth:$depth, magnitude:$magnitude} )\"\n",
    "        \n",
    "    with driver.session() as session:\n",
    "        fid = row.getValue(\"FID\")\n",
    "        depth = row.getValue(\"depth\")\n",
    "        magnitude = row.getValue(\"magnitude\")\n",
    "        \n",
    "        session.run(create_earthquake_cypher, fid=fid, depth=depth, magnitude=magnitude)\n",
    "        \n",
    "\n",
    "        \n",
    "cursor = arcpy.SearchCursor(near_features,\n",
    "                            fields=\"FID; PROJECT_NU; SEGMENT_NU; LINE_TYPE_; STATUS; PROPONENT\")\n",
    "for row in cursor:\n",
    "    create_pipeline_cypher = \"CREATE (p:Pipeline \" \\\n",
    "                             \"{fid:$fid, project_id:$project_id, segment_id:$segment_id, \" \\\n",
    "                             \" line_type:$line_type, status:$status, operator:$operator} )\"\n",
    "        \n",
    "    with driver.session() as session:\n",
    "        fid = row.getValue(\"FID\")\n",
    "        project_id = row.getValue(\"PROJECT_NU\")\n",
    "        segment_id = row.getValue(\"SEGMENT_NU\")\n",
    "        line_type = row.getValue(\"LINE_TYPE_\")\n",
    "        status = row.getValue(\"STATUS\")\n",
    "        operator = row.getValue(\"PROPONENT\")\n",
    "        \n",
    "        session.run(create_pipeline_cypher, fid=fid, project_id=project_id, \n",
    "                    segment_id=segment_id, line_type=line_type, status=status, \n",
    "                    operator=operator)\n",
    "\n",
    "\n",
    "        \n",
    "cursor = arcpy.SearchCursor(out_table)\n",
    "for row in cursor:\n",
    "    create_threat_cypher = \"MATCH (e:Threat_Mechanism {fid:$e_fid}) \" \\\n",
    "                           \"MATCH (p:Pipeline {fid:$p_fid}) \" \\\n",
    "                           \"CREATE (e)-[:Threats {distance:$distance}]->(p)\"\n",
    "        \n",
    "    with driver.session() as session:\n",
    "        e_fid = row.getValue(\"IN_FID\")\n",
    "        p_fid = row.getValue(\"NEAR_FID\")\n",
    "        distance = row.getValue(\"NEAR_DIST\")\n",
    "        \n",
    "        session.run(create_threat_cypher, e_fid=e_fid, p_fid=p_fid, distance=distance)\n",
    "\n",
    "\n",
    "driver.session().run(\"MATCH (n:Threat_Mechanism) WHERE size((n)--())=0 DELETE (n)\")\n",
    "\n",
    "driver.close()\n",
    "\n",
    "print(\"Done\")"
   ]
  },
  {
   "cell_type": "code",
   "execution_count": null,
   "metadata": {
    "collapsed": true
   },
   "outputs": [],
   "source": []
  }
 ],
 "metadata": {
  "kernelspec": {
   "display_name": "Python 3",
   "language": "python",
   "name": "python3"
  },
  "language_info": {
   "codemirror_mode": {
    "name": "ipython",
    "version": 3
   },
   "file_extension": ".py",
   "mimetype": "text/x-python",
   "name": "python",
   "nbconvert_exporter": "python",
   "pygments_lexer": "ipython3",
   "version": "3.6.2"
  }
 },
 "nbformat": 4,
 "nbformat_minor": 2
}
